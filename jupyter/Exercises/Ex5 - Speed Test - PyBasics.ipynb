{
 "cells": [
  {
   "cell_type": "markdown",
   "metadata": {},
   "source": [
    "# Lists\n",
    "\n",
    "Variable length collections\n",
    "\n",
    "Contents can be modified\n",
    "\n",
    "Defined using [] "
   ]
  },
  {
   "cell_type": "markdown",
   "metadata": {},
   "source": [
    "** Q1 **<br>\n",
    "\n",
    "Create a list, l1, using the [] operator"
   ]
  },
  {
   "cell_type": "code",
   "execution_count": 1,
   "metadata": {},
   "outputs": [
    {
     "data": {
      "text/plain": [
       "[1, 2, 3, None]"
      ]
     },
     "execution_count": 1,
     "metadata": {},
     "output_type": "execute_result"
    }
   ],
   "source": []
  },
  {
   "cell_type": "markdown",
   "metadata": {},
   "source": [
    "** Q2 ** <br>\n",
    "\n",
    "Can also be defined using the 'list' type function\n",
    "\n",
    "Create a list, l2, from l1, using the 'list' type function"
   ]
  },
  {
   "cell_type": "code",
   "execution_count": 2,
   "metadata": {},
   "outputs": [
    {
     "data": {
      "text/plain": [
       "[1, 2, 3, None]"
      ]
     },
     "execution_count": 2,
     "metadata": {},
     "output_type": "execute_result"
    }
   ],
   "source": []
  },
  {
   "cell_type": "markdown",
   "metadata": {},
   "source": [
    "** Q3 **<br>\n",
    "\n",
    "Can supply a range to the list function\n",
    "\n",
    "Create a list, l3, using the range() function.\n",
    "\n",
    "Use the range 0,1,2,....,19"
   ]
  },
  {
   "cell_type": "code",
   "execution_count": 3,
   "metadata": {},
   "outputs": [
    {
     "data": {
      "text/plain": [
       "[0, 1, 2, 3, 4, 5, 6, 7, 8, 9, 10, 11, 12, 13, 14, 15, 16, 17, 18, 19]"
      ]
     },
     "execution_count": 3,
     "metadata": {},
     "output_type": "execute_result"
    }
   ],
   "source": []
  },
  {
   "cell_type": "markdown",
   "metadata": {},
   "source": [
    "** Q4 **\n",
    "\n",
    "Use append() to add elements to end of list\n",
    "\n",
    "Append l3 to the end of l2"
   ]
  },
  {
   "cell_type": "code",
   "execution_count": 4,
   "metadata": {},
   "outputs": [
    {
     "data": {
      "text/plain": [
       "[1,\n",
       " 2,\n",
       " 3,\n",
       " None,\n",
       " [0, 1, 2, 3, 4, 5, 6, 7, 8, 9, 10, 11, 12, 13, 14, 15, 16, 17, 18, 19]]"
      ]
     },
     "execution_count": 4,
     "metadata": {},
     "output_type": "execute_result"
    }
   ],
   "source": []
  },
  {
   "cell_type": "markdown",
   "metadata": {},
   "source": [
    "** Q5 **\n",
    "\n",
    "Use insert() to insert items at a specific position\n",
    "\n",
    "NB list indexes start at 0\n",
    "\n",
    "Insert the value 222 between values 3 and None in l2"
   ]
  },
  {
   "cell_type": "code",
   "execution_count": 5,
   "metadata": {},
   "outputs": [
    {
     "data": {
      "text/plain": [
       "[1,\n",
       " 2,\n",
       " 3,\n",
       " 222,\n",
       " None,\n",
       " [0, 1, 2, 3, 4, 5, 6, 7, 8, 9, 10, 11, 12, 13, 14, 15, 16, 17, 18, 19]]"
      ]
     },
     "execution_count": 5,
     "metadata": {},
     "output_type": "execute_result"
    }
   ],
   "source": []
  },
  {
   "cell_type": "markdown",
   "metadata": {},
   "source": [
    "** Q6 **\n",
    "\n",
    "Use pop() to remove elements from a list\n",
    "\n",
    "Remove the value Non from the lsit l2"
   ]
  },
  {
   "cell_type": "code",
   "execution_count": 6,
   "metadata": {},
   "outputs": [
    {
     "data": {
      "text/plain": [
       "[1,\n",
       " 2,\n",
       " 3,\n",
       " 222,\n",
       " [0, 1, 2, 3, 4, 5, 6, 7, 8, 9, 10, 11, 12, 13, 14, 15, 16, 17, 18, 19]]"
      ]
     },
     "execution_count": 6,
     "metadata": {},
     "output_type": "execute_result"
    }
   ],
   "source": []
  },
  {
   "cell_type": "markdown",
   "metadata": {},
   "source": [
    "** Q7 **\n",
    "\n",
    "Use sort() to sort lists\n",
    "\n",
    "Create a list of stock symbols 'FB', 'APPL', 'NFLIX', 'GOOG'\n",
    "\n",
    "Sort the list alphabetically"
   ]
  },
  {
   "cell_type": "code",
   "execution_count": 7,
   "metadata": {},
   "outputs": [
    {
     "data": {
      "text/plain": [
       "['APPL', 'FB', 'GOOG', 'NFLIX']"
      ]
     },
     "execution_count": 7,
     "metadata": {},
     "output_type": "execute_result"
    }
   ],
   "source": []
  },
  {
   "cell_type": "markdown",
   "metadata": {},
   "source": [
    "** Q8 ** \n",
    "\n",
    "Can pass a function to use as a sort as opposed to the default.\n",
    "\n",
    "Sort the list of symbols on the number of characters of the symbol"
   ]
  },
  {
   "cell_type": "code",
   "execution_count": 8,
   "metadata": {},
   "outputs": [
    {
     "data": {
      "text/plain": [
       "['FB', 'APPL', 'GOOG', 'NFLIX']"
      ]
     },
     "execution_count": 8,
     "metadata": {},
     "output_type": "execute_result"
    }
   ],
   "source": []
  },
  {
   "cell_type": "markdown",
   "metadata": {},
   "source": [
    "** Q9 **\n",
    "\n",
    "Perform binary searching using bisect the bisect module\n",
    "\n",
    "bisect.bisect() returns the index of of a list where an element should be inserted to maintain a sort"
   ]
  },
  {
   "cell_type": "code",
   "execution_count": 9,
   "metadata": {},
   "outputs": [],
   "source": [
    "import bisect"
   ]
  },
  {
   "cell_type": "markdown",
   "metadata": {},
   "source": [
    "** Q10 **\n",
    "\n",
    "Create a list, even_numbers using the following values\n",
    "\n",
    "2,4,6,8,10"
   ]
  },
  {
   "cell_type": "code",
   "execution_count": 10,
   "metadata": {},
   "outputs": [],
   "source": []
  },
  {
   "cell_type": "markdown",
   "metadata": {},
   "source": [
    "** Q11 **\n",
    "\n",
    "Use bisect() to determine at what location in the list would the value 7 be inserted"
   ]
  },
  {
   "cell_type": "code",
   "execution_count": 11,
   "metadata": {},
   "outputs": [
    {
     "data": {
      "text/plain": [
       "3"
      ]
     },
     "execution_count": 11,
     "metadata": {},
     "output_type": "execute_result"
    }
   ],
   "source": []
  },
  {
   "cell_type": "markdown",
   "metadata": {},
   "source": [
    "** Q12 **\n",
    "\n",
    "Insert the value 7 into the even_numbers list whilst maintaining their order"
   ]
  },
  {
   "cell_type": "code",
   "execution_count": 12,
   "metadata": {},
   "outputs": [
    {
     "data": {
      "text/plain": [
       "[2, 4, 6, 7, 8, 10]"
      ]
     },
     "execution_count": 12,
     "metadata": {},
     "output_type": "execute_result"
    }
   ],
   "source": []
  },
  {
   "cell_type": "markdown",
   "metadata": {},
   "source": [
    "** Q13 **\n",
    "\n",
    "Slice to select sub-selections of lists (or other collections)\n",
    "\n",
    "Some form of start:stop operation\n",
    "\n",
    "Create a list seq using the following values 1,3,5,7,9,11,13,15,17,19"
   ]
  },
  {
   "cell_type": "code",
   "execution_count": 13,
   "metadata": {},
   "outputs": [],
   "source": []
  },
  {
   "cell_type": "markdown",
   "metadata": {},
   "source": [
    "** Q14 **\n",
    "\n",
    "Create a slice that represents the list of values 3,5,7,9"
   ]
  },
  {
   "cell_type": "code",
   "execution_count": 14,
   "metadata": {},
   "outputs": [
    {
     "data": {
      "text/plain": [
       "[3, 5, 7, 9]"
      ]
     },
     "execution_count": 14,
     "metadata": {},
     "output_type": "execute_result"
    }
   ],
   "source": []
  },
  {
   "cell_type": "markdown",
   "metadata": {},
   "source": [
    "** Q15 **\n",
    "\n",
    "Assign a sequence [10,12] into seq to replace the values 11 and 13"
   ]
  },
  {
   "cell_type": "code",
   "execution_count": 15,
   "metadata": {},
   "outputs": [
    {
     "data": {
      "text/plain": [
       "[1, 3, 5, 7, 9, 10, 12, 15, 17, 19]"
      ]
     },
     "execution_count": 15,
     "metadata": {},
     "output_type": "execute_result"
    }
   ],
   "source": []
  },
  {
   "cell_type": "markdown",
   "metadata": {},
   "source": [
    "** Q 16 **\n",
    "\n",
    "start or stop can be omitted\n",
    "\n",
    "here, default is to the actual start or end of the list\n",
    "\n",
    "Slice the first 5 elements of seq"
   ]
  },
  {
   "cell_type": "code",
   "execution_count": 16,
   "metadata": {},
   "outputs": [
    {
     "data": {
      "text/plain": [
       "[1, 3, 5, 7, 9]"
      ]
     },
     "execution_count": 16,
     "metadata": {},
     "output_type": "execute_result"
    }
   ],
   "source": []
  },
  {
   "cell_type": "markdown",
   "metadata": {},
   "source": [
    "** Q 17 **\n",
    "\n",
    "Slice from the 3rd element to the end of seq"
   ]
  },
  {
   "cell_type": "code",
   "execution_count": 17,
   "metadata": {},
   "outputs": [
    {
     "data": {
      "text/plain": [
       "[7, 9, 10, 12, 15, 17, 19]"
      ]
     },
     "execution_count": 17,
     "metadata": {},
     "output_type": "execute_result"
    }
   ],
   "source": []
  },
  {
   "cell_type": "markdown",
   "metadata": {},
   "source": [
    "** Q 18 **\n",
    "\n",
    "A Step can be placed after a second colon to indicate a step\n",
    "\n",
    "Slice every second element of seq"
   ]
  },
  {
   "cell_type": "code",
   "execution_count": 18,
   "metadata": {
    "scrolled": true
   },
   "outputs": [
    {
     "data": {
      "text/plain": [
       "[1, 5, 9, 12, 17]"
      ]
     },
     "execution_count": 18,
     "metadata": {},
     "output_type": "execute_result"
    }
   ],
   "source": []
  },
  {
   "cell_type": "markdown",
   "metadata": {},
   "source": [
    "\n",
    "\n"
   ]
  },
  {
   "cell_type": "markdown",
   "metadata": {},
   "source": [
    "** Q 19 **\n",
    "\n",
    "Slice every 3rd element of seq"
   ]
  },
  {
   "cell_type": "code",
   "execution_count": 19,
   "metadata": {},
   "outputs": [
    {
     "data": {
      "text/plain": [
       "[1, 7, 12, 19]"
      ]
     },
     "execution_count": 19,
     "metadata": {},
     "output_type": "execute_result"
    }
   ],
   "source": []
  },
  {
   "cell_type": "markdown",
   "metadata": {},
   "source": [
    "# Built in Sequence Functions\n"
   ]
  },
  {
   "cell_type": "markdown",
   "metadata": {},
   "source": [
    "** Q 20 **\n",
    "\n",
    "Creat a sequence of values\n",
    "\n",
    "[1,3,5,7,9,11,13,15,17,19]\n",
    "\n",
    "Use enumerate as part of a for loop and print ech of the (i value) tuples yielded by enumerate"
   ]
  },
  {
   "cell_type": "code",
   "execution_count": 20,
   "metadata": {},
   "outputs": [
    {
     "name": "stdout",
     "output_type": "stream",
     "text": [
      "0 1\n",
      "1 3\n",
      "2 5\n",
      "3 7\n",
      "4 9\n",
      "5 11\n",
      "6 13\n",
      "7 15\n",
      "8 17\n",
      "9 19\n"
     ]
    }
   ],
   "source": []
  },
  {
   "cell_type": "markdown",
   "metadata": {},
   "source": [
    "** Q 21 **\n",
    "\n",
    "returns a new sorted list from the elements of any sorted sequence\n",
    "\n",
    "Create the sequence of values [9,6,4,1,12,44,1]\n",
    "\n",
    "Sort them in ascending order"
   ]
  },
  {
   "cell_type": "code",
   "execution_count": 21,
   "metadata": {},
   "outputs": [
    {
     "data": {
      "text/plain": [
       "[1, 1, 4, 6, 9, 12, 44]"
      ]
     },
     "execution_count": 21,
     "metadata": {},
     "output_type": "execute_result"
    }
   ],
   "source": []
  },
  {
   "cell_type": "markdown",
   "metadata": {},
   "source": [
    "** Q 22 **\n",
    "\n",
    "pairs up the elements of a numner of lists, tuples etc to create a list of tuples\n",
    "\n",
    "Take the following 2 sequences\n",
    "\n",
    "'FB', 'APPL', 'NFLIX', 'GOOG'\n",
    "12.23, 45.32, 76.12, 192.32\n",
    "\n",
    "Zip them together to create a list of pairs [('FB', 12.23), ('APPL', 45.32), ('NFLIX', 76.12), ('GOOG', 192.32)]c"
   ]
  },
  {
   "cell_type": "code",
   "execution_count": 22,
   "metadata": {},
   "outputs": [
    {
     "data": {
      "text/plain": [
       "[('FB', 12.23), ('APPL', 45.32), ('NFLIX', 76.12), ('GOOG', 192.32)]"
      ]
     },
     "execution_count": 22,
     "metadata": {},
     "output_type": "execute_result"
    }
   ],
   "source": []
  },
  {
   "cell_type": "markdown",
   "metadata": {},
   "source": [
    "** Q 23 **\n",
    "\n",
    "iterate over the following list ['FB', 'APPL', 'NFLIX', 'GOOG'] in reverse order"
   ]
  },
  {
   "cell_type": "code",
   "execution_count": 23,
   "metadata": {},
   "outputs": [
    {
     "data": {
      "text/plain": [
       "['GOOG', 'NFLIX', 'APPL', 'FB']"
      ]
     },
     "execution_count": 23,
     "metadata": {},
     "output_type": "execute_result"
    }
   ],
   "source": []
  },
  {
   "cell_type": "markdown",
   "metadata": {},
   "source": [
    "## Random Numbers\n",
    "\n",
    "Often useful to quickly create and populate data structures with random numbers.\n",
    "\n",
    "For testing, prototyping etc\n",
    "\n",
    "Use the numpy.random module\n",
    "\n",
    "Also includes functions to create arrays of random numbers populated with a variety of probaility distributions (chi-squared, bi-nomial, lognormal)\n",
    "\n",
    "https://docs.scipy.org/doc/numpy-1.14.0/reference/routines.random.html\n",
    "\n",
    "https://www.itl.nist.gov/div898/handbook/eda/eda.htm"
   ]
  },
  {
   "cell_type": "code",
   "execution_count": 24,
   "metadata": {},
   "outputs": [],
   "source": [
    "import numpy as np"
   ]
  },
  {
   "cell_type": "markdown",
   "metadata": {},
   "source": [
    "** Q 24 ** \n",
    "\n",
    "Create a 5 x 2 array of samples from the normal distribution"
   ]
  },
  {
   "cell_type": "code",
   "execution_count": 25,
   "metadata": {
    "scrolled": true
   },
   "outputs": [
    {
     "data": {
      "text/plain": [
       "array([[-1.10838845,  1.36476334],\n",
       "       [-0.64594037,  1.37036382],\n",
       "       [-0.41923112, -1.13632578],\n",
       "       [ 0.89913949,  0.85981812],\n",
       "       [ 0.13875994,  0.61277623]])"
      ]
     },
     "execution_count": 25,
     "metadata": {},
     "output_type": "execute_result"
    }
   ],
   "source": []
  },
  {
   "cell_type": "markdown",
   "metadata": {},
   "source": [
    "** Q 25 ** \n",
    "\n",
    "Create a 3 x 3 array of samples from the chi-squared distribution"
   ]
  },
  {
   "cell_type": "code",
   "execution_count": 26,
   "metadata": {},
   "outputs": [
    {
     "data": {
      "text/plain": [
       "array([[0.59143927, 1.29723198, 1.79739004, 1.71234844],\n",
       "       [0.83340295, 2.08986045, 0.01027237, 1.76096296],\n",
       "       [2.04332557, 3.92212013, 0.55389691, 1.76752971]])"
      ]
     },
     "execution_count": 26,
     "metadata": {},
     "output_type": "execute_result"
    }
   ],
   "source": []
  },
  {
   "cell_type": "markdown",
   "metadata": {},
   "source": [
    "# User Defined Functions\n",
    "\n",
    "Declared using the def keyword in python\n",
    "\n",
    "Results send back to the call site using the 'return' keyword\n",
    "\n",
    "Functions can have multiple return statements\n",
    "\n",
    "Functions can return multiple values\n",
    "\n",
    "Function arguments are treated as parameters in at the function declaration\n",
    "\n",
    "Funciton arguments can be values \n",
    "\n",
    "Function arguments can be other functions\n",
    "\n",
    "Parameters can have default values\n",
    "\n",
    "Functions can have names\n",
    "\n",
    "Functions can be annonymous (lambdas)"
   ]
  },
  {
   "cell_type": "markdown",
   "metadata": {},
   "source": [
    "** Q 26 **\n",
    "\n",
    "Write a function vel calculates the final velocity.<br>\n",
    "\n",
    "Inputs u, t, a (default to 9.81) <br>\n",
    "\n",
    "Use the following definition <br>\n",
    "    u + (at)\n"
   ]
  },
  {
   "cell_type": "code",
   "execution_count": 27,
   "metadata": {},
   "outputs": [],
   "source": []
  },
  {
   "cell_type": "code",
   "execution_count": 28,
   "metadata": {},
   "outputs": [
    {
     "data": {
      "text/plain": [
       "49.050000000000004"
      ]
     },
     "execution_count": 28,
     "metadata": {},
     "output_type": "execute_result"
    }
   ],
   "source": [
    "# Fall off a building\n",
    "v1 = vel(0,5)\n",
    "v1"
   ]
  },
  {
   "cell_type": "code",
   "execution_count": 29,
   "metadata": {},
   "outputs": [
    {
     "data": {
      "text/plain": [
       "30"
      ]
     },
     "execution_count": 29,
     "metadata": {},
     "output_type": "execute_result"
    }
   ],
   "source": [
    "# Decelerate from 80 m/s for 5 seconds\n",
    "v2 = vel(80,-10, 5)\n",
    "v2"
   ]
  },
  {
   "cell_type": "markdown",
   "metadata": {},
   "source": [
    "** Q 27 ** \n",
    "\n",
    "Write a function multiple_returns that has multiple return statements\n",
    "\n",
    "Inputs a,b,c\n",
    "\n",
    "Definition<br>\n",
    "\n",
    " If c > 5 reutrn (a*b)/c<br>\n",
    " Else return (a*b)*c <br>\n",
    "    "
   ]
  },
  {
   "cell_type": "code",
   "execution_count": 30,
   "metadata": {},
   "outputs": [],
   "source": []
  },
  {
   "cell_type": "code",
   "execution_count": 31,
   "metadata": {},
   "outputs": [
    {
     "data": {
      "text/plain": [
       "24"
      ]
     },
     "execution_count": 31,
     "metadata": {},
     "output_type": "execute_result"
    }
   ],
   "source": [
    "multiple_returns(3,4,2)"
   ]
  },
  {
   "cell_type": "markdown",
   "metadata": {},
   "source": [
    "** Q 28 **\n",
    "\n",
    "Write a function called foo that returns the values 3,4,5"
   ]
  },
  {
   "cell_type": "code",
   "execution_count": 32,
   "metadata": {
    "scrolled": true
   },
   "outputs": [],
   "source": []
  },
  {
   "cell_type": "code",
   "execution_count": 33,
   "metadata": {},
   "outputs": [
    {
     "data": {
      "text/plain": [
       "(3, 4, 5)"
      ]
     },
     "execution_count": 33,
     "metadata": {},
     "output_type": "execute_result"
    }
   ],
   "source": [
    "x,y,z = foo()\n",
    "\n",
    "x,y,z"
   ]
  },
  {
   "cell_type": "code",
   "execution_count": 34,
   "metadata": {},
   "outputs": [
    {
     "data": {
      "text/plain": [
       "(3, 4, 5)"
      ]
     },
     "execution_count": 34,
     "metadata": {},
     "output_type": "execute_result"
    }
   ],
   "source": [
    "# Same idea here\n",
    "values = foo()\n",
    "values"
   ]
  },
  {
   "cell_type": "markdown",
   "metadata": {},
   "source": [
    "## Lambdas\n",
    "\n",
    "Sometimes, functions are so short, its not worth your effort to declared and name a function.\n",
    "\n",
    "Lamdas allow a programmer to define and implement a function right at the point where it is needed.\n",
    "\n",
    "Lambdas do not need a name, just a function body.\n",
    "\n",
    "Useful in situations where some functions take other functions as arguments"
   ]
  },
  {
   "cell_type": "code",
   "execution_count": 35,
   "metadata": {},
   "outputs": [
    {
     "data": {
      "text/plain": [
       "[3, 5, 7, 9, 11]"
      ]
     },
     "execution_count": 35,
     "metadata": {},
     "output_type": "execute_result"
    }
   ],
   "source": [
    "# Simple Function\n",
    "def bar(x):\n",
    "    return (x*2) + 1\n",
    "\n",
    "# Simple funciton that has parameters a list (lst) and a function (fun) \n",
    "def list_walk(lst, func):\n",
    "    return [func(x) for x in lst]\n",
    "\n",
    "my_list = [1,2,3,4,5]\n",
    "\n",
    "v1 = list_walk(my_list, bar)\n",
    "v1"
   ]
  },
  {
   "cell_type": "markdown",
   "metadata": {},
   "source": [
    "** Q 29 **\n",
    "\n",
    "Spend a few minutes trying out the code above.<br>\n",
    "\n",
    "Replace the statement <br>\n",
    "\n",
    "v1 = list_walk(my_list, bar) <br>\n",
    "\n",
    "so that instead of supplying the function name bar, supply instead a lambda that implements the same logic."
   ]
  },
  {
   "cell_type": "code",
   "execution_count": 36,
   "metadata": {},
   "outputs": [
    {
     "data": {
      "text/plain": [
       "[3, 5, 7, 9, 11]"
      ]
     },
     "execution_count": 36,
     "metadata": {},
     "output_type": "execute_result"
    }
   ],
   "source": []
  }
 ],
 "metadata": {
  "kernelspec": {
   "display_name": "Python 3",
   "language": "python",
   "name": "python3"
  },
  "language_info": {
   "codemirror_mode": {
    "name": "ipython",
    "version": 3
   },
   "file_extension": ".py",
   "mimetype": "text/x-python",
   "name": "python",
   "nbconvert_exporter": "python",
   "pygments_lexer": "ipython3",
   "version": "3.7.4"
  }
 },
 "nbformat": 4,
 "nbformat_minor": 2
}
