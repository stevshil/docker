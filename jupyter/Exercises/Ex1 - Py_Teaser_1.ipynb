{
 "cells": [
  {
   "cell_type": "markdown",
   "metadata": {},
   "source": [
    "<img style=\"float: right;\" width=\"120\" src=\"http://neueda.conygre.com/pydata/images/neueda-logo.jpeg\">\n",
    "<img style=\"float: left; margin-top: 0\" width=\"80\" src=\"http://neueda.conygre.com/pydata/images/client-logo.png\">\n",
    "<br><br><br>"
   ]
  },
  {
   "cell_type": "markdown",
   "metadata": {},
   "source": [
    "### 1. Add two numbers without using addition operator\n",
    "\n",
    "\n",
    "* Write a function that takes two integer numbers and returns the sum of those numbers\n",
    "* do not use the + operator\n",
    "* do not use the sum function\n",
    "* try to come up with 2 different approaches"
   ]
  },
  {
   "cell_type": "code",
   "execution_count": 1,
   "metadata": {},
   "outputs": [],
   "source": [
    "def add_1(a, b):\n",
    "    pass # code goes here!"
   ]
  },
  {
   "cell_type": "code",
   "execution_count": 2,
   "metadata": {},
   "outputs": [],
   "source": [
    "def add_2(a, b):\n",
    "    pass # code goes here!"
   ]
  },
  {
   "cell_type": "code",
   "execution_count": 3,
   "metadata": {},
   "outputs": [],
   "source": [
    "# these should pass\n",
    "assert ( add_1(90, 7) == 97 )\n",
    "assert ( add_2(90, 7) == 97 )"
   ]
  },
  {
   "cell_type": "markdown",
   "metadata": {},
   "source": [
    "### 2. Write the shortest piece of Python code:\n",
    "\n",
    "Take the a list of lists called in_data below, and return a list of the sum of the square of each element (as shown in out_data)\n",
    "\n",
    "Hint: consider the python lambda and map operators"
   ]
  },
  {
   "cell_type": "code",
   "execution_count": 4,
   "metadata": {},
   "outputs": [],
   "source": [
    "in_data = [ [ 4, 5, 6 ],\n",
    "            [ 7, 8, 9 ],\n",
    "            [ 1, 2, 3 ] ]\n",
    "\n",
    "out_data = [ 77, 194, 14 ]"
   ]
  },
  {
   "cell_type": "code",
   "execution_count": 5,
   "metadata": {},
   "outputs": [],
   "source": [
    "def sum_squares(in_data):\n",
    "    pass # code goes here!"
   ]
  },
  {
   "cell_type": "code",
   "execution_count": 6,
   "metadata": {},
   "outputs": [],
   "source": [
    "assert(sum_squares(in_data)) == out_data"
   ]
  },
  {
   "cell_type": "markdown",
   "metadata": {},
   "source": [
    "### 3. Find the angle between two hands of the clock\n",
    "\n",
    "Write a function that takes two integer numbers representing a time as hours and minutes e.g 12, 45  (12:45)\n",
    "Return the angle in degrees between the hands on a regular clock showing that time"
   ]
  },
  {
   "cell_type": "code",
   "execution_count": 7,
   "metadata": {},
   "outputs": [],
   "source": [
    "def find_clock_angle(hour, min):\n",
    "    pass # code goes here!\n"
   ]
  },
  {
   "cell_type": "code",
   "execution_count": 8,
   "metadata": {},
   "outputs": [],
   "source": [
    "assert( find_clock_angle(0, 30) == 165 )\n",
    "assert( find_clock_angle(3, 0) == 90 )"
   ]
  }
 ],
 "metadata": {
  "kernelspec": {
   "display_name": "Python 3",
   "language": "python",
   "name": "python3"
  },
  "language_info": {
   "codemirror_mode": {
    "name": "ipython",
    "version": 3
   },
   "file_extension": ".py",
   "mimetype": "text/x-python",
   "name": "python",
   "nbconvert_exporter": "python",
   "pygments_lexer": "ipython3",
   "version": "3.7.3"
  }
 },
 "nbformat": 4,
 "nbformat_minor": 2
}
