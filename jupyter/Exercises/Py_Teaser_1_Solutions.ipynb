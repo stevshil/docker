{
 "cells": [
  {
   "cell_type": "markdown",
   "metadata": {},
   "source": [
    "### Add two numbers without using addition operator\n",
    "\n",
    "\n",
    "* Write a function that takes two integer numbers and returns the sum of those numbers\n",
    "* do not use the + operator\n",
    "* do not use the sum function\n",
    "* try to come up with 2 different approaches\n",
    "\n",
    "\n",
    "**Note:** these are \"novelty\" style questions to explore Python in a \"fun\" way, we are not recommending you include any of these in Production code!"
   ]
  },
  {
   "cell_type": "code",
   "execution_count": 1,
   "metadata": {},
   "outputs": [],
   "source": [
    "def add_1(a, b):\n",
    "    return a-(-b)"
   ]
  },
  {
   "cell_type": "code",
   "execution_count": 2,
   "metadata": {},
   "outputs": [],
   "source": [
    "def add_2(a, b):\n",
    "    while (a > 0):\n",
    "        b += 1\n",
    "        a -= 1\n",
    "\n",
    "    while (a < 0):\n",
    "        b -= 1\n",
    "        a += 1\n",
    "    return b;"
   ]
  },
  {
   "cell_type": "code",
   "execution_count": 3,
   "metadata": {},
   "outputs": [],
   "source": [
    "def add_3(a, b):\n",
    "    if (b == 0):\n",
    "        return a;\n",
    "\n",
    "    sum = a ^ b\n",
    "    carry = (a & b) << 1\n",
    "\n",
    "    return add_3(sum, carry)"
   ]
  },
  {
   "cell_type": "code",
   "execution_count": 4,
   "metadata": {},
   "outputs": [],
   "source": [
    "def add_4(a, b):\n",
    "    astring = 't' * a\n",
    "    bstring = 't' * b\n",
    "\n",
    "    abstring = '{}{}'.format(astring, bstring)\n",
    "    numChars = len(abstring)\n",
    "\n",
    "    return numChars"
   ]
  },
  {
   "cell_type": "code",
   "execution_count": 5,
   "metadata": {},
   "outputs": [],
   "source": [
    "assert ( add_1(90, 7) == 97 )\n",
    "assert ( add_2(90, 7) == 97 )\n",
    "assert ( add_3(90, 7) == 97 )\n",
    "assert ( add_4(90, 7) == 97 )"
   ]
  },
  {
   "cell_type": "markdown",
   "metadata": {},
   "source": [
    "### Write the shortest piece of Python code:\n",
    "\n",
    "Take the a list of lists as below, and return a list of the sum of the square of each element\n",
    "\n",
    "Hint: consider the python lambda and map operators"
   ]
  },
  {
   "cell_type": "code",
   "execution_count": 6,
   "metadata": {},
   "outputs": [],
   "source": [
    "in_data = [ [ 4, 5, 6 ],\n",
    "            [ 7, 8, 9 ],\n",
    "            [ 1, 2, 3 ] ]\n",
    "\n",
    "out_data = [ 77, 194, 14 ]"
   ]
  },
  {
   "cell_type": "code",
   "execution_count": 7,
   "metadata": {},
   "outputs": [
    {
     "data": {
      "text/plain": [
       "[77, 194, 14]"
      ]
     },
     "execution_count": 7,
     "metadata": {},
     "output_type": "execute_result"
    }
   ],
   "source": [
    "list( map(lambda y: sum( map(lambda x: x * x, y) ), in_data) )"
   ]
  },
  {
   "cell_type": "code",
   "execution_count": 8,
   "metadata": {},
   "outputs": [
    {
     "data": {
      "text/plain": [
       "[77, 194, 14]"
      ]
     },
     "execution_count": 8,
     "metadata": {},
     "output_type": "execute_result"
    }
   ],
   "source": [
    "[ sum( map( lambda x: x*x, y) ) for y in in_data ]"
   ]
  },
  {
   "cell_type": "markdown",
   "metadata": {},
   "source": [
    "### Find the angle between two hands of the clock\n",
    "\n",
    "Write a function that takes two integer numbers representing a time as hours and minutes e.g 12, 45  (12:45)\n",
    "Return the angle in degrees between the hands on a regular clock showing that time"
   ]
  },
  {
   "cell_type": "code",
   "execution_count": 9,
   "metadata": {},
   "outputs": [],
   "source": [
    "def find_clock_angle(hour, min):\n",
    "\n",
    "    hour += (min // 60)\n",
    "    min = min % 60\n",
    "\n",
    "    h_angle = (360 / 12) * (hour % 12) + ((( 360 / 12) / 60) * min )\n",
    "\n",
    "    m_angle = (360 / 60) * min\n",
    "    \n",
    "    # calculate the angle difference\n",
    "    angle = abs(h_angle - m_angle)\n",
    "\n",
    "    # consider shorter angle and return it\n",
    "    if angle > 180:\n",
    "        angle = 360 - angle\n",
    "\n",
    "    return angle"
   ]
  },
  {
   "cell_type": "code",
   "execution_count": 10,
   "metadata": {},
   "outputs": [],
   "source": [
    "assert( find_clock_angle(0, 30) == 165 )\n",
    "assert( find_clock_angle(3, 0) == 90 )"
   ]
  }
 ],
 "metadata": {
  "kernelspec": {
   "display_name": "Python 3",
   "language": "python",
   "name": "python3"
  },
  "language_info": {
   "codemirror_mode": {
    "name": "ipython",
    "version": 3
   },
   "file_extension": ".py",
   "mimetype": "text/x-python",
   "name": "python",
   "nbconvert_exporter": "python",
   "pygments_lexer": "ipython3",
   "version": "3.7.3"
  }
 },
 "nbformat": 4,
 "nbformat_minor": 2
}
